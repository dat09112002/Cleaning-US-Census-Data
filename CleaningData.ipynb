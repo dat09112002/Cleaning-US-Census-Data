{
 "cells": [
  {
   "cell_type": "markdown",
   "id": "0a3e713e-f724-455f-b47c-709aa77a1d46",
   "metadata": {},
   "source": [
    "# Step 1: Inspect the Data\n",
    "I began by inspecting the CSV files provided to understand the kind of information they held. The files were named consistently and contained census data such as state names, population, income, and gender demographics.\n"
   ]
  },
  {
   "cell_type": "markdown",
   "id": "aedbc47b-d37b-4c2e-bd21-ce73ec50774b",
   "metadata": {},
   "source": [
    "# Step 2: Load Data into DataFrames\n",
    "Using the 'glob' module, I loaded all the CSV files into separate DataFrames and concatenated them into one comprehensive DataFrame called 'us_census'."
   ]
  },
  {
   "cell_type": "code",
   "execution_count": 4,
   "id": "d5f373eb-7667-4332-83cf-2aa5a7d17d1b",
   "metadata": {},
   "outputs": [],
   "source": [
    "import pandas as pd\n",
    "import glob\n",
    "\n",
    "# Use glob to get all the files that match the pattern\n",
    "files = glob.glob(\"states*.csv\")\n",
    "\n",
    "# Initialize an empty list to hold dataframes\n",
    "states_list = []\n",
    "\n",
    "# Loop through the files and read them into dataframes, then append to the list\n",
    "for filename in files:\n",
    "    data = pd.read_csv(filename)\n",
    "    states_list.append(data)\n",
    "\n",
    "# Concatenate all dataframes in the list into a single dataframe\n",
    "us_census = pd.concat(states_list)\n"
   ]
  },
  {
   "cell_type": "markdown",
   "id": "5b0c4083-e806-498d-81b8-1138220c56a6",
   "metadata": {},
   "source": [
    "# Step 3: Inspect the DataFrame\n",
    "To understand the structure of the concatenated DataFrame, I inspected the columns and data types.\n"
   ]
  },
  {
   "cell_type": "code",
   "execution_count": 7,
   "id": "220624d1-ee48-446d-a620-f8cd2294d937",
   "metadata": {},
   "outputs": [
    {
     "name": "stdout",
     "output_type": "stream",
     "text": [
      "Index(['Unnamed: 0', 'State', 'TotalPop', 'Hispanic', 'White', 'Black',\n",
      "       'Native', 'Asian', 'Pacific', 'Income', 'GenderPop'],\n",
      "      dtype='object')\n",
      "Unnamed: 0     int64\n",
      "State         object\n",
      "TotalPop       int64\n",
      "Hispanic      object\n",
      "White         object\n",
      "Black         object\n",
      "Native        object\n",
      "Asian         object\n",
      "Pacific       object\n",
      "Income        object\n",
      "GenderPop     object\n",
      "dtype: object\n"
     ]
    }
   ],
   "source": [
    "print(us_census.columns)\n",
    "print(us_census.dtypes)\n"
   ]
  },
  {
   "cell_type": "markdown",
   "id": "39931a0e-a517-4a9e-bb29-b5961e56f18c",
   "metadata": {},
   "source": [
    "### Step 4: Inspect the DataFrame\n",
    "\n",
    "Examine the first few rows of the DataFrame to understand why some columns have `object` data types instead of `integers` or `floats`. Use the following code to view the initial rows and identify any non-numeric characters or inconsistencies:\n"
   ]
  },
  {
   "cell_type": "code",
   "execution_count": 12,
   "id": "858a9098-e826-472e-9c0c-47afa6d3ef95",
   "metadata": {},
   "outputs": [
    {
     "data": {
      "text/html": [
       "<div>\n",
       "<style scoped>\n",
       "    .dataframe tbody tr th:only-of-type {\n",
       "        vertical-align: middle;\n",
       "    }\n",
       "\n",
       "    .dataframe tbody tr th {\n",
       "        vertical-align: top;\n",
       "    }\n",
       "\n",
       "    .dataframe thead th {\n",
       "        text-align: right;\n",
       "    }\n",
       "</style>\n",
       "<table border=\"1\" class=\"dataframe\">\n",
       "  <thead>\n",
       "    <tr style=\"text-align: right;\">\n",
       "      <th></th>\n",
       "      <th>Unnamed: 0</th>\n",
       "      <th>State</th>\n",
       "      <th>TotalPop</th>\n",
       "      <th>Hispanic</th>\n",
       "      <th>White</th>\n",
       "      <th>Black</th>\n",
       "      <th>Native</th>\n",
       "      <th>Asian</th>\n",
       "      <th>Pacific</th>\n",
       "      <th>Income</th>\n",
       "      <th>GenderPop</th>\n",
       "    </tr>\n",
       "  </thead>\n",
       "  <tbody>\n",
       "    <tr>\n",
       "      <th>0</th>\n",
       "      <td>0</td>\n",
       "      <td>Rhode Island</td>\n",
       "      <td>1053661</td>\n",
       "      <td>13.36%</td>\n",
       "      <td>74.33%</td>\n",
       "      <td>5.68%</td>\n",
       "      <td>0.35%</td>\n",
       "      <td>3.25%</td>\n",
       "      <td>0.04%</td>\n",
       "      <td>$59,125.27</td>\n",
       "      <td>510388M_543273F</td>\n",
       "    </tr>\n",
       "    <tr>\n",
       "      <th>1</th>\n",
       "      <td>1</td>\n",
       "      <td>South Carolina</td>\n",
       "      <td>4777576</td>\n",
       "      <td>5.06%</td>\n",
       "      <td>62.89%</td>\n",
       "      <td>28.75%</td>\n",
       "      <td>0.29%</td>\n",
       "      <td>1.25%</td>\n",
       "      <td>0.05%</td>\n",
       "      <td>$46,296.81</td>\n",
       "      <td>2322409M_2455167F</td>\n",
       "    </tr>\n",
       "    <tr>\n",
       "      <th>2</th>\n",
       "      <td>2</td>\n",
       "      <td>South Dakota</td>\n",
       "      <td>843190</td>\n",
       "      <td>3.24%</td>\n",
       "      <td>82.50%</td>\n",
       "      <td>1.42%</td>\n",
       "      <td>9.42%</td>\n",
       "      <td>1.02%</td>\n",
       "      <td>0.04%</td>\n",
       "      <td>$51,805.41</td>\n",
       "      <td>423477M_419713F</td>\n",
       "    </tr>\n",
       "    <tr>\n",
       "      <th>3</th>\n",
       "      <td>3</td>\n",
       "      <td>Tennessee</td>\n",
       "      <td>6499615</td>\n",
       "      <td>4.72%</td>\n",
       "      <td>73.49%</td>\n",
       "      <td>18.28%</td>\n",
       "      <td>0.23%</td>\n",
       "      <td>1.41%</td>\n",
       "      <td>0.04%</td>\n",
       "      <td>$47,328.08</td>\n",
       "      <td>3167756M_3331859F</td>\n",
       "    </tr>\n",
       "    <tr>\n",
       "      <th>4</th>\n",
       "      <td>4</td>\n",
       "      <td>Texas</td>\n",
       "      <td>26538614</td>\n",
       "      <td>38.05%</td>\n",
       "      <td>44.69%</td>\n",
       "      <td>11.65%</td>\n",
       "      <td>0.26%</td>\n",
       "      <td>3.67%</td>\n",
       "      <td>0.07%</td>\n",
       "      <td>$55,874.52</td>\n",
       "      <td>13171316M_13367298F</td>\n",
       "    </tr>\n",
       "  </tbody>\n",
       "</table>\n",
       "</div>"
      ],
      "text/plain": [
       "   Unnamed: 0           State  TotalPop Hispanic   White   Black Native  \\\n",
       "0           0    Rhode Island   1053661   13.36%  74.33%   5.68%  0.35%   \n",
       "1           1  South Carolina   4777576    5.06%  62.89%  28.75%  0.29%   \n",
       "2           2    South Dakota    843190    3.24%  82.50%   1.42%  9.42%   \n",
       "3           3       Tennessee   6499615    4.72%  73.49%  18.28%  0.23%   \n",
       "4           4           Texas  26538614   38.05%  44.69%  11.65%  0.26%   \n",
       "\n",
       "   Asian Pacific       Income            GenderPop  \n",
       "0  3.25%   0.04%  $59,125.27       510388M_543273F  \n",
       "1  1.25%   0.05%  $46,296.81     2322409M_2455167F  \n",
       "2  1.02%   0.04%  $51,805.41       423477M_419713F  \n",
       "3  1.41%   0.04%  $47,328.08     3167756M_3331859F  \n",
       "4  3.67%   0.07%  $55,874.52   13171316M_13367298F  "
      ]
     },
     "execution_count": 12,
     "metadata": {},
     "output_type": "execute_result"
    }
   ],
   "source": [
    "us_census.head()"
   ]
  },
  {
   "cell_type": "markdown",
   "id": "2d019fb8-56e1-419a-b9ff-54940d822e36",
   "metadata": {},
   "source": [
    "# Step 4: Convert the Income Column to Numeric\n",
    "The Income column had dollar signs and commas which needed to be removed before converting it to a numeric data type.\n"
   ]
  },
  {
   "cell_type": "code",
   "execution_count": 27,
   "id": "76448c9c-ac95-459e-bd3d-190e781a42e6",
   "metadata": {},
   "outputs": [],
   "source": [
    "# Remove dollar signs and commas from the Income column\n",
    "us_census['Income'] = us_census['Income'].replace({r'\\$': '', ',': ''}, regex=True)\n",
    "\n",
    "# Convert the Income column to numeric\n",
    "us_census['Income'] = pd.to_numeric(us_census['Income'])\n"
   ]
  },
  {
   "cell_type": "code",
   "execution_count": 29,
   "id": "1fd2289c-79ae-4ebd-86e7-93b20b3124be",
   "metadata": {},
   "outputs": [
    {
     "name": "stdout",
     "output_type": "stream",
     "text": [
      "0    59125.27\n",
      "1    46296.81\n",
      "2    51805.41\n",
      "3    47328.08\n",
      "4    55874.52\n",
      "5    63488.92\n",
      "0    63488.92\n",
      "1    55602.97\n",
      "2    72866.01\n",
      "3    64493.77\n",
      "4    41437.11\n",
      "5    53898.89\n",
      "0    78765.40\n",
      "1    72838.94\n",
      "2    51201.83\n",
      "3    62820.83\n",
      "4    38909.92\n",
      "5    49763.99\n",
      "0    49763.99\n",
      "1    47645.68\n",
      "2    55916.47\n",
      "3    55526.53\n",
      "4    68728.86\n",
      "5    76581.08\n",
      "0    49655.25\n",
      "1    48100.85\n",
      "2    54271.90\n",
      "3    56170.46\n",
      "4    20720.54\n",
      "5    59125.27\n",
      "0    76581.08\n",
      "1    47329.97\n",
      "2    64290.75\n",
      "3    49937.46\n",
      "4    58188.11\n",
      "5    49655.25\n",
      "0    50811.08\n",
      "1    73264.43\n",
      "2    48017.32\n",
      "3    59587.05\n",
      "4    48616.23\n",
      "5    53017.75\n",
      "0    53017.75\n",
      "1    53885.61\n",
      "2    45285.80\n",
      "3    44957.99\n",
      "4    49181.97\n",
      "5    78765.40\n",
      "0    64657.80\n",
      "1    76146.56\n",
      "2    61827.98\n",
      "3    75466.36\n",
      "4    50690.19\n",
      "5    50811.08\n",
      "0    43296.36\n",
      "1    70354.74\n",
      "2    54207.82\n",
      "3    41935.63\n",
      "4    67264.78\n",
      "5    64657.80\n",
      "Name: Income, dtype: float64\n"
     ]
    }
   ],
   "source": [
    "print(us_census['Income'])"
   ]
  },
  {
   "cell_type": "markdown",
   "id": "f6c869c4-08db-4488-8f17-05fe1b39d3a3",
   "metadata": {},
   "source": [
    "# Step 5: Split the GenderPop Column\n",
    "I split the GenderPop column into separate Men and Women columns to facilitate analysis.\n"
   ]
  },
  {
   "cell_type": "code",
   "execution_count": 37,
   "id": "5267040f-9111-488c-90a6-a7daccc11896",
   "metadata": {},
   "outputs": [
    {
     "data": {
      "text/html": [
       "<div>\n",
       "<style scoped>\n",
       "    .dataframe tbody tr th:only-of-type {\n",
       "        vertical-align: middle;\n",
       "    }\n",
       "\n",
       "    .dataframe tbody tr th {\n",
       "        vertical-align: top;\n",
       "    }\n",
       "\n",
       "    .dataframe thead th {\n",
       "        text-align: right;\n",
       "    }\n",
       "</style>\n",
       "<table border=\"1\" class=\"dataframe\">\n",
       "  <thead>\n",
       "    <tr style=\"text-align: right;\">\n",
       "      <th></th>\n",
       "      <th>Unnamed: 0</th>\n",
       "      <th>State</th>\n",
       "      <th>TotalPop</th>\n",
       "      <th>Hispanic</th>\n",
       "      <th>White</th>\n",
       "      <th>Black</th>\n",
       "      <th>Native</th>\n",
       "      <th>Asian</th>\n",
       "      <th>Pacific</th>\n",
       "      <th>Income</th>\n",
       "      <th>GenderPop</th>\n",
       "      <th>Men</th>\n",
       "      <th>Women</th>\n",
       "    </tr>\n",
       "  </thead>\n",
       "  <tbody>\n",
       "    <tr>\n",
       "      <th>0</th>\n",
       "      <td>0</td>\n",
       "      <td>Rhode Island</td>\n",
       "      <td>1053661</td>\n",
       "      <td>13.36%</td>\n",
       "      <td>74.33%</td>\n",
       "      <td>5.68%</td>\n",
       "      <td>0.35%</td>\n",
       "      <td>3.25%</td>\n",
       "      <td>0.04%</td>\n",
       "      <td>59125.27</td>\n",
       "      <td>510388M_543273F</td>\n",
       "      <td>510388</td>\n",
       "      <td>543273.0</td>\n",
       "    </tr>\n",
       "    <tr>\n",
       "      <th>1</th>\n",
       "      <td>1</td>\n",
       "      <td>South Carolina</td>\n",
       "      <td>4777576</td>\n",
       "      <td>5.06%</td>\n",
       "      <td>62.89%</td>\n",
       "      <td>28.75%</td>\n",
       "      <td>0.29%</td>\n",
       "      <td>1.25%</td>\n",
       "      <td>0.05%</td>\n",
       "      <td>46296.81</td>\n",
       "      <td>2322409M_2455167F</td>\n",
       "      <td>2322409</td>\n",
       "      <td>2455167.0</td>\n",
       "    </tr>\n",
       "    <tr>\n",
       "      <th>2</th>\n",
       "      <td>2</td>\n",
       "      <td>South Dakota</td>\n",
       "      <td>843190</td>\n",
       "      <td>3.24%</td>\n",
       "      <td>82.50%</td>\n",
       "      <td>1.42%</td>\n",
       "      <td>9.42%</td>\n",
       "      <td>1.02%</td>\n",
       "      <td>0.04%</td>\n",
       "      <td>51805.41</td>\n",
       "      <td>423477M_419713F</td>\n",
       "      <td>423477</td>\n",
       "      <td>419713.0</td>\n",
       "    </tr>\n",
       "    <tr>\n",
       "      <th>3</th>\n",
       "      <td>3</td>\n",
       "      <td>Tennessee</td>\n",
       "      <td>6499615</td>\n",
       "      <td>4.72%</td>\n",
       "      <td>73.49%</td>\n",
       "      <td>18.28%</td>\n",
       "      <td>0.23%</td>\n",
       "      <td>1.41%</td>\n",
       "      <td>0.04%</td>\n",
       "      <td>47328.08</td>\n",
       "      <td>3167756M_3331859F</td>\n",
       "      <td>3167756</td>\n",
       "      <td>3331859.0</td>\n",
       "    </tr>\n",
       "    <tr>\n",
       "      <th>4</th>\n",
       "      <td>4</td>\n",
       "      <td>Texas</td>\n",
       "      <td>26538614</td>\n",
       "      <td>38.05%</td>\n",
       "      <td>44.69%</td>\n",
       "      <td>11.65%</td>\n",
       "      <td>0.26%</td>\n",
       "      <td>3.67%</td>\n",
       "      <td>0.07%</td>\n",
       "      <td>55874.52</td>\n",
       "      <td>13171316M_13367298F</td>\n",
       "      <td>13171316</td>\n",
       "      <td>13367298.0</td>\n",
       "    </tr>\n",
       "  </tbody>\n",
       "</table>\n",
       "</div>"
      ],
      "text/plain": [
       "   Unnamed: 0           State  TotalPop Hispanic   White   Black Native  \\\n",
       "0           0    Rhode Island   1053661   13.36%  74.33%   5.68%  0.35%   \n",
       "1           1  South Carolina   4777576    5.06%  62.89%  28.75%  0.29%   \n",
       "2           2    South Dakota    843190    3.24%  82.50%   1.42%  9.42%   \n",
       "3           3       Tennessee   6499615    4.72%  73.49%  18.28%  0.23%   \n",
       "4           4           Texas  26538614   38.05%  44.69%  11.65%  0.26%   \n",
       "\n",
       "   Asian Pacific    Income            GenderPop       Men       Women  \n",
       "0  3.25%   0.04%  59125.27      510388M_543273F    510388    543273.0  \n",
       "1  1.25%   0.05%  46296.81    2322409M_2455167F   2322409   2455167.0  \n",
       "2  1.02%   0.04%  51805.41      423477M_419713F    423477    419713.0  \n",
       "3  1.41%   0.04%  47328.08    3167756M_3331859F   3167756   3331859.0  \n",
       "4  3.67%   0.07%  55874.52  13171316M_13367298F  13171316  13367298.0  "
      ]
     },
     "execution_count": 37,
     "metadata": {},
     "output_type": "execute_result"
    }
   ],
   "source": [
    "# Split the GenderPop column into Men and Women columns\n",
    "gender_split = us_census['GenderPop'].str.split('_')\n",
    "us_census['Men'] = gender_split.str[0].str[:-1]\n",
    "us_census['Women'] = gender_split.str[1].str[:-1]\n",
    "\n",
    "# Convert Men and Women columns to numeric\n",
    "us_census['Men'] = pd.to_numeric(us_census['Men'])\n",
    "us_census['Women'] = pd.to_numeric(us_census['Women'])\n",
    "\n",
    "us_census.head()\n"
   ]
  },
  {
   "cell_type": "markdown",
   "id": "2eb9299f-43f5-49ac-9b93-e323548038c4",
   "metadata": {},
   "source": [
    "# Step 6: Fill Missing Values in the Women Column\n",
    "I handled missing values in the Women column by using the TotalPop and Men columns.\n"
   ]
  },
  {
   "cell_type": "code",
   "execution_count": 35,
   "id": "c2e02ace-2e5d-4c05-98c4-e18e09ee4311",
   "metadata": {},
   "outputs": [],
   "source": [
    "# Fill missing values in the Women column\n",
    "us_census['Women'] = us_census['Women'].fillna(us_census['TotalPop'] - us_census['Men'])\n"
   ]
  },
  {
   "cell_type": "markdown",
   "id": "b050b9c7-ab7a-4733-81b7-c5035d6cab73",
   "metadata": {},
   "source": [
    "# Step 7: Drop Duplicate Rows\n",
    "To ensure data quality, I checked for and dropped any duplicate rows in the DataFrame.\n"
   ]
  },
  {
   "cell_type": "code",
   "execution_count": 40,
   "id": "30c54436-7067-4bd7-99c7-47efba3671dc",
   "metadata": {},
   "outputs": [],
   "source": [
    "# Drop duplicate rows\n",
    "us_census = us_census.drop_duplicates(subset=us_census.columns[1:])\n"
   ]
  },
  {
   "cell_type": "markdown",
   "id": "38707f73-2e4a-44c4-a311-7ac74479f3f0",
   "metadata": {},
   "source": [
    "# Step 8: Calculate the Proportion of Women in Each State\n",
    "I added a new column to the DataFrame to calculate the proportion of women in each state.\n"
   ]
  },
  {
   "cell_type": "code",
   "execution_count": 43,
   "id": "fe5aaec1-0fbb-42a9-b8b4-239f0b2a60f1",
   "metadata": {},
   "outputs": [],
   "source": [
    "# Calculate the proportion of women in each state\n",
    "us_census['ProportionWomen'] = us_census['Women'] / us_census['TotalPop']\n"
   ]
  },
  {
   "cell_type": "markdown",
   "id": "1b6af0bd-d4bd-4fa0-be8e-327a01a31ce6",
   "metadata": {},
   "source": [
    "# Step 9: Create the Scatter Plot\n",
    "Finally, I created a scatter plot to visualize the relationship between average income and the proportion of women in each state.\n"
   ]
  },
  {
   "cell_type": "code",
   "execution_count": 46,
   "id": "51f4e287-daab-4c62-8378-249a321a3365",
   "metadata": {},
   "outputs": [
    {
     "data": {
      "image/png": "[encoded data removed]",
      "text/plain": [
       "<Figure size 640x480 with 1 Axes>"
      ]
     },
     "metadata": {},
     "output_type": "display_data"
    }
   ],
   "source": [
    "import matplotlib.pyplot as plt\n",
    "\n",
    "# Create the scatter plot\n",
    "plt.scatter(us_census['ProportionWomen'], us_census['Income'])\n",
    "plt.title(\"Scatter Plot of Income vs. Proportion of Women per State\")\n",
    "plt.xlabel(\"Proportion of Women per State\")\n",
    "plt.ylabel(\"Income (in US Dollars)\")\n",
    "plt.show()\n"
   ]
  },
  {
   "cell_type": "code",
   "execution_count": null,
   "id": "0dca3924-529e-4879-a330-9517eafb644f",
   "metadata": {},
   "outputs": [],
   "source": []
  }
 ],
 "metadata": {
  "kernelspec": {
   "display_name": "Python 3 (ipykernel)",
   "language": "python",
   "name": "python3"
  },
  "language_info": {
   "codemirror_mode": {
    "name": "ipython",
    "version": 3
   },
   "file_extension": ".py",
   "mimetype": "text/x-python",
   "name": "python",
   "nbconvert_exporter": "python",
   "pygments_lexer": "ipython3",
   "version": "3.12.4"
  }
 },
 "nbformat": 4,
 "nbformat_minor": 5
}
